{
  "nbformat": 4,
  "nbformat_minor": 0,
  "metadata": {
    "colab": {
      "name": "unsupervised_pubg.ipynb",
      "version": "0.3.2",
      "provenance": [],
      "collapsed_sections": []
    },
    "kernelspec": {
      "name": "python3",
      "display_name": "Python 3"
    }
  },
  "cells": [
    {
      "cell_type": "code",
      "metadata": {
        "id": "DG4M9ZiOmYPy",
        "colab_type": "code",
        "colab": {
          "base_uri": "https://localhost:8080/",
          "height": 34
        },
        "outputId": "03e80d40-50c6-48cf-8074-41d5e50452bc"
      },
      "source": [
        "#importing required libraries\n",
        "import pandas as pd \n",
        "import numpy as np\n",
        "from google.colab import drive\n",
        "from sklearn.model_selection import train_test_split\n",
        "import seaborn as sns\n",
        "import matplotlib.pyplot as plt\n",
        "%matplotlib inline\n",
        "#loading data\n",
        "drive.mount('data')\n",
        "data=pd.read_csv('data/My Drive/pubg/train.csv')"
      ],
      "execution_count": 1,
      "outputs": [
        {
          "output_type": "stream",
          "text": [
            "Drive already mounted at data; to attempt to forcibly remount, call drive.mount(\"data\", force_remount=True).\n"
          ],
          "name": "stdout"
        }
      ]
    },
    {
      "cell_type": "code",
      "metadata": {
        "id": "2-FfY_xXpaUU",
        "colab_type": "code",
        "colab": {}
      },
      "source": [
        ""
      ],
      "execution_count": 0,
      "outputs": []
    },
    {
      "cell_type": "code",
      "metadata": {
        "id": "oui-RibvmoYt",
        "colab_type": "code",
        "colab": {
          "base_uri": "https://localhost:8080/",
          "height": 272
        },
        "outputId": "d6663179-9509-4210-be19-77f77bffd36e"
      },
      "source": [
        "#loading saved ANN model\n",
        "from keras.models import load_model\n",
        "classifier=load_model('data/My Drive/pubg/my_pubgmodel.h5')\n"
      ],
      "execution_count": 2,
      "outputs": [
        {
          "output_type": "stream",
          "text": [
            "Using TensorFlow backend.\n",
            "WARNING: Logging before flag parsing goes to stderr.\n",
            "W0712 08:10:08.851734 140013369182080 deprecation_wrapper.py:119] From /usr/local/lib/python3.6/dist-packages/keras/backend/tensorflow_backend.py:517: The name tf.placeholder is deprecated. Please use tf.compat.v1.placeholder instead.\n",
            "\n",
            "W0712 08:10:08.889877 140013369182080 deprecation_wrapper.py:119] From /usr/local/lib/python3.6/dist-packages/keras/backend/tensorflow_backend.py:4138: The name tf.random_uniform is deprecated. Please use tf.random.uniform instead.\n",
            "\n",
            "W0712 08:10:08.967931 140013369182080 deprecation_wrapper.py:119] From /usr/local/lib/python3.6/dist-packages/keras/backend/tensorflow_backend.py:174: The name tf.get_default_session is deprecated. Please use tf.compat.v1.get_default_session instead.\n",
            "\n",
            "W0712 08:10:08.969447 140013369182080 deprecation_wrapper.py:119] From /usr/local/lib/python3.6/dist-packages/keras/backend/tensorflow_backend.py:181: The name tf.ConfigProto is deprecated. Please use tf.compat.v1.ConfigProto instead.\n",
            "\n",
            "W0712 08:10:08.970664 140013369182080 deprecation_wrapper.py:119] From /usr/local/lib/python3.6/dist-packages/keras/backend/tensorflow_backend.py:186: The name tf.Session is deprecated. Please use tf.compat.v1.Session instead.\n",
            "\n",
            "W0712 08:10:09.313712 140013369182080 deprecation_wrapper.py:119] From /usr/local/lib/python3.6/dist-packages/keras/optimizers.py:790: The name tf.train.Optimizer is deprecated. Please use tf.compat.v1.train.Optimizer instead.\n",
            "\n"
          ],
          "name": "stderr"
        }
      ]
    },
    {
      "cell_type": "code",
      "metadata": {
        "id": "qriW_BkAmq6u",
        "colab_type": "code",
        "colab": {}
      },
      "source": [
        "#separating features and target variable\n",
        "X = data.iloc[:,3:-1].values\n",
        "Y = data.iloc[:,-1].values"
      ],
      "execution_count": 0,
      "outputs": []
    },
    {
      "cell_type": "code",
      "metadata": {
        "id": "ww93HUW_mycp",
        "colab_type": "code",
        "colab": {}
      },
      "source": [
        "#splitting the data set\n",
        "X_train, X_test, y_train, y_test = train_test_split(X, Y, test_size=0.35, random_state=42)"
      ],
      "execution_count": 0,
      "outputs": []
    },
    {
      "cell_type": "code",
      "metadata": {
        "id": "NKL4RjeBm2x-",
        "colab_type": "code",
        "colab": {}
      },
      "source": [
        "#predicting the target variable\n",
        "pred=classifier.predict(X_test)"
      ],
      "execution_count": 0,
      "outputs": []
    },
    {
      "cell_type": "code",
      "metadata": {
        "id": "vc0qzzkBm7TS",
        "colab_type": "code",
        "colab": {}
      },
      "source": [
        "from sklearn.metrics import mean_absolute_error,mean_squared_error"
      ],
      "execution_count": 0,
      "outputs": []
    },
    {
      "cell_type": "code",
      "metadata": {
        "id": "GhnT-WlinCBV",
        "colab_type": "code",
        "colab": {
          "base_uri": "https://localhost:8080/",
          "height": 34
        },
        "outputId": "d465c745-1bdb-4a15-fad8-e7b6ffa38991"
      },
      "source": [
        "mean_absolute_error(y_test,pred)"
      ],
      "execution_count": 7,
      "outputs": [
        {
          "output_type": "execute_result",
          "data": {
            "text/plain": [
              "0.0659523294922661"
            ]
          },
          "metadata": {
            "tags": []
          },
          "execution_count": 7
        }
      ]
    },
    {
      "cell_type": "code",
      "metadata": {
        "id": "hXOSqySynFlz",
        "colab_type": "code",
        "colab": {
          "base_uri": "https://localhost:8080/",
          "height": 34
        },
        "outputId": "8f763393-50ac-41e2-f488-801af2b047b4"
      },
      "source": [
        "mean_squared_error(y_test,pred)"
      ],
      "execution_count": 8,
      "outputs": [
        {
          "output_type": "execute_result",
          "data": {
            "text/plain": [
              "0.008855043471511743"
            ]
          },
          "metadata": {
            "tags": []
          },
          "execution_count": 8
        }
      ]
    },
    {
      "cell_type": "code",
      "metadata": {
        "id": "zLtrz1MdnOOc",
        "colab_type": "code",
        "colab": {
          "base_uri": "https://localhost:8080/",
          "height": 215
        },
        "outputId": "9bf6d43a-cc05-4b3d-a9f9-e6da56702f3c"
      },
      "source": [
        "#first five values in the dataset\n",
        "data.head()"
      ],
      "execution_count": 9,
      "outputs": [
        {
          "output_type": "execute_result",
          "data": {
            "text/html": [
              "<div>\n",
              "<style scoped>\n",
              "    .dataframe tbody tr th:only-of-type {\n",
              "        vertical-align: middle;\n",
              "    }\n",
              "\n",
              "    .dataframe tbody tr th {\n",
              "        vertical-align: top;\n",
              "    }\n",
              "\n",
              "    .dataframe thead th {\n",
              "        text-align: right;\n",
              "    }\n",
              "</style>\n",
              "<table border=\"1\" class=\"dataframe\">\n",
              "  <thead>\n",
              "    <tr style=\"text-align: right;\">\n",
              "      <th></th>\n",
              "      <th>Id</th>\n",
              "      <th>groupId</th>\n",
              "      <th>matchId</th>\n",
              "      <th>assists</th>\n",
              "      <th>boosts</th>\n",
              "      <th>damageDealt</th>\n",
              "      <th>DBNOs</th>\n",
              "      <th>headshotKills</th>\n",
              "      <th>heals</th>\n",
              "      <th>killPlace</th>\n",
              "      <th>killPoints</th>\n",
              "      <th>kills</th>\n",
              "      <th>killStreaks</th>\n",
              "      <th>longestKill</th>\n",
              "      <th>maxPlace</th>\n",
              "      <th>numGroups</th>\n",
              "      <th>revives</th>\n",
              "      <th>rideDistance</th>\n",
              "      <th>roadKills</th>\n",
              "      <th>swimDistance</th>\n",
              "      <th>teamKills</th>\n",
              "      <th>vehicleDestroys</th>\n",
              "      <th>walkDistance</th>\n",
              "      <th>weaponsAcquired</th>\n",
              "      <th>winPoints</th>\n",
              "      <th>winPlacePerc</th>\n",
              "    </tr>\n",
              "  </thead>\n",
              "  <tbody>\n",
              "    <tr>\n",
              "      <th>0</th>\n",
              "      <td>0</td>\n",
              "      <td>24</td>\n",
              "      <td>0</td>\n",
              "      <td>0</td>\n",
              "      <td>5</td>\n",
              "      <td>247.30</td>\n",
              "      <td>2</td>\n",
              "      <td>0</td>\n",
              "      <td>4</td>\n",
              "      <td>17</td>\n",
              "      <td>1050</td>\n",
              "      <td>2</td>\n",
              "      <td>1</td>\n",
              "      <td>65.32</td>\n",
              "      <td>29</td>\n",
              "      <td>28</td>\n",
              "      <td>1</td>\n",
              "      <td>591.3</td>\n",
              "      <td>0</td>\n",
              "      <td>0.0</td>\n",
              "      <td>0</td>\n",
              "      <td>0</td>\n",
              "      <td>782.40</td>\n",
              "      <td>4</td>\n",
              "      <td>1458</td>\n",
              "      <td>0.8571</td>\n",
              "    </tr>\n",
              "    <tr>\n",
              "      <th>1</th>\n",
              "      <td>1</td>\n",
              "      <td>440875</td>\n",
              "      <td>1</td>\n",
              "      <td>1</td>\n",
              "      <td>0</td>\n",
              "      <td>37.65</td>\n",
              "      <td>1</td>\n",
              "      <td>1</td>\n",
              "      <td>0</td>\n",
              "      <td>45</td>\n",
              "      <td>1072</td>\n",
              "      <td>1</td>\n",
              "      <td>1</td>\n",
              "      <td>13.55</td>\n",
              "      <td>26</td>\n",
              "      <td>23</td>\n",
              "      <td>0</td>\n",
              "      <td>0.0</td>\n",
              "      <td>0</td>\n",
              "      <td>0.0</td>\n",
              "      <td>0</td>\n",
              "      <td>0</td>\n",
              "      <td>119.60</td>\n",
              "      <td>3</td>\n",
              "      <td>1511</td>\n",
              "      <td>0.0400</td>\n",
              "    </tr>\n",
              "    <tr>\n",
              "      <th>2</th>\n",
              "      <td>2</td>\n",
              "      <td>878242</td>\n",
              "      <td>2</td>\n",
              "      <td>0</td>\n",
              "      <td>1</td>\n",
              "      <td>93.73</td>\n",
              "      <td>1</td>\n",
              "      <td>0</td>\n",
              "      <td>2</td>\n",
              "      <td>54</td>\n",
              "      <td>1404</td>\n",
              "      <td>0</td>\n",
              "      <td>0</td>\n",
              "      <td>0.00</td>\n",
              "      <td>28</td>\n",
              "      <td>28</td>\n",
              "      <td>1</td>\n",
              "      <td>0.0</td>\n",
              "      <td>0</td>\n",
              "      <td>0.0</td>\n",
              "      <td>0</td>\n",
              "      <td>0</td>\n",
              "      <td>3248.00</td>\n",
              "      <td>5</td>\n",
              "      <td>1583</td>\n",
              "      <td>0.7407</td>\n",
              "    </tr>\n",
              "    <tr>\n",
              "      <th>3</th>\n",
              "      <td>3</td>\n",
              "      <td>1319841</td>\n",
              "      <td>3</td>\n",
              "      <td>0</td>\n",
              "      <td>0</td>\n",
              "      <td>95.88</td>\n",
              "      <td>0</td>\n",
              "      <td>0</td>\n",
              "      <td>0</td>\n",
              "      <td>86</td>\n",
              "      <td>1069</td>\n",
              "      <td>0</td>\n",
              "      <td>0</td>\n",
              "      <td>0.00</td>\n",
              "      <td>97</td>\n",
              "      <td>94</td>\n",
              "      <td>0</td>\n",
              "      <td>0.0</td>\n",
              "      <td>0</td>\n",
              "      <td>0.0</td>\n",
              "      <td>0</td>\n",
              "      <td>0</td>\n",
              "      <td>21.49</td>\n",
              "      <td>1</td>\n",
              "      <td>1489</td>\n",
              "      <td>0.1146</td>\n",
              "    </tr>\n",
              "    <tr>\n",
              "      <th>4</th>\n",
              "      <td>4</td>\n",
              "      <td>1757883</td>\n",
              "      <td>4</td>\n",
              "      <td>0</td>\n",
              "      <td>1</td>\n",
              "      <td>0.00</td>\n",
              "      <td>0</td>\n",
              "      <td>0</td>\n",
              "      <td>1</td>\n",
              "      <td>58</td>\n",
              "      <td>1034</td>\n",
              "      <td>0</td>\n",
              "      <td>0</td>\n",
              "      <td>0.00</td>\n",
              "      <td>47</td>\n",
              "      <td>41</td>\n",
              "      <td>0</td>\n",
              "      <td>0.0</td>\n",
              "      <td>0</td>\n",
              "      <td>0.0</td>\n",
              "      <td>0</td>\n",
              "      <td>0</td>\n",
              "      <td>640.80</td>\n",
              "      <td>4</td>\n",
              "      <td>1475</td>\n",
              "      <td>0.5217</td>\n",
              "    </tr>\n",
              "  </tbody>\n",
              "</table>\n",
              "</div>"
            ],
            "text/plain": [
              "   Id  groupId  matchId  ...  weaponsAcquired  winPoints  winPlacePerc\n",
              "0   0       24        0  ...                4       1458        0.8571\n",
              "1   1   440875        1  ...                3       1511        0.0400\n",
              "2   2   878242        2  ...                5       1583        0.7407\n",
              "3   3  1319841        3  ...                1       1489        0.1146\n",
              "4   4  1757883        4  ...                4       1475        0.5217\n",
              "\n",
              "[5 rows x 26 columns]"
            ]
          },
          "metadata": {
            "tags": []
          },
          "execution_count": 9
        }
      ]
    },
    {
      "cell_type": "code",
      "metadata": {
        "id": "jiAap7B3nR0D",
        "colab_type": "code",
        "colab": {
          "base_uri": "https://localhost:8080/",
          "height": 151
        },
        "outputId": "ffd9ea66-16bb-4290-fa1d-0046a2d4cebb"
      },
      "source": [
        "#killplace column in the dataset is a categorical one as it describes the place where player got killed\n",
        "data['killPlace'].unique()"
      ],
      "execution_count": 10,
      "outputs": [
        {
          "output_type": "execute_result",
          "data": {
            "text/plain": [
              "array([ 17,  45,  54,  86,  58,  25,  28,   3,  50,  81,  35,  63,  18,\n",
              "        10,  93,  39,  80,  79,  11,  31,   1,  59,  13,  34,  60,  55,\n",
              "        19,  37,  42,   9,  14,  24,  20,  33,   5,  62,  83,  78,  66,\n",
              "        15,  21,   8,  23,  16,  29,  85,  41,  72,  88,  69,  57,  94,\n",
              "        61,   2,  36,  75,  90,  65,   4,  51,  12,  46,  87,  49,   7,\n",
              "        56,  22,  76,  40,  48,   6,  43,  67,  77,  52,  82,  64,  30,\n",
              "        32,  26,  84,  53,  97,  38,  27,  71,  89,  74,  95,  70,  47,\n",
              "        98,  91,  68,  44,  73,  96,  92,  99, 100])"
            ]
          },
          "metadata": {
            "tags": []
          },
          "execution_count": 10
        }
      ]
    },
    {
      "cell_type": "code",
      "metadata": {
        "id": "fK7-guQfnahP",
        "colab_type": "code",
        "colab": {}
      },
      "source": [
        "#putting mean value of kills at a kill place in an array\n",
        "arr=[]\n",
        "for i in data.killPlace.unique():\n",
        "  arr=np.append(arr,[data[data['killPlace']==i]['kills'].mean()])"
      ],
      "execution_count": 0,
      "outputs": []
    },
    {
      "cell_type": "code",
      "metadata": {
        "id": "_Mk3g-RrnbsF",
        "colab_type": "code",
        "colab": {}
      },
      "source": [
        "#making a dataframe for average kill per place\n",
        "average_kill_per_place=pd.DataFrame(data=arr,index=data.killPlace.unique(),columns=['average_kills'])\n",
        "average_kill_per_place=average_kill_per_place.sort_index()"
      ],
      "execution_count": 0,
      "outputs": []
    },
    {
      "cell_type": "code",
      "metadata": {
        "id": "Z9k3wWI2ngWZ",
        "colab_type": "code",
        "colab": {
          "base_uri": "https://localhost:8080/",
          "height": 195
        },
        "outputId": "5bcf3d9a-afe1-4506-aa47-8e635d8e0995"
      },
      "source": [
        "\n",
        "average_kill_per_place.head()"
      ],
      "execution_count": 13,
      "outputs": [
        {
          "output_type": "execute_result",
          "data": {
            "text/html": [
              "<div>\n",
              "<style scoped>\n",
              "    .dataframe tbody tr th:only-of-type {\n",
              "        vertical-align: middle;\n",
              "    }\n",
              "\n",
              "    .dataframe tbody tr th {\n",
              "        vertical-align: top;\n",
              "    }\n",
              "\n",
              "    .dataframe thead th {\n",
              "        text-align: right;\n",
              "    }\n",
              "</style>\n",
              "<table border=\"1\" class=\"dataframe\">\n",
              "  <thead>\n",
              "    <tr style=\"text-align: right;\">\n",
              "      <th></th>\n",
              "      <th>average_kills</th>\n",
              "    </tr>\n",
              "  </thead>\n",
              "  <tbody>\n",
              "    <tr>\n",
              "      <th>1</th>\n",
              "      <td>8.020866</td>\n",
              "    </tr>\n",
              "    <tr>\n",
              "      <th>2</th>\n",
              "      <td>6.027989</td>\n",
              "    </tr>\n",
              "    <tr>\n",
              "      <th>3</th>\n",
              "      <td>5.074037</td>\n",
              "    </tr>\n",
              "    <tr>\n",
              "      <th>4</th>\n",
              "      <td>4.461933</td>\n",
              "    </tr>\n",
              "    <tr>\n",
              "      <th>5</th>\n",
              "      <td>4.014938</td>\n",
              "    </tr>\n",
              "  </tbody>\n",
              "</table>\n",
              "</div>"
            ],
            "text/plain": [
              "   average_kills\n",
              "1       8.020866\n",
              "2       6.027989\n",
              "3       5.074037\n",
              "4       4.461933\n",
              "5       4.014938"
            ]
          },
          "metadata": {
            "tags": []
          },
          "execution_count": 13
        }
      ]
    },
    {
      "cell_type": "code",
      "metadata": {
        "id": "iE4xJsE6nkKe",
        "colab_type": "code",
        "colab": {
          "base_uri": "https://localhost:8080/",
          "height": 521
        },
        "outputId": "151142a1-361f-425b-bf13-1bdd1d0ff958"
      },
      "source": [
        "#A strip plot for average kills per place\n",
        "plt.figure(figsize=(25,8))\n",
        "\n",
        "sns.stripplot(average_kill_per_place.index,average_kill_per_place['average_kills'],palette='Blues_r')\n",
        "plt.xlabel('KillPlace')\n",
        "plt.ylabel('average kill per place')\n",
        "plt.xticks(np.arange(0,101,step=1))\n",
        "plt.yticks(np.arange(0,10,step=0.5))\n",
        "plt.tight_layout\n",
        "plt.show()"
      ],
      "execution_count": 14,
      "outputs": [
        {
          "output_type": "display_data",
          "data": {
            "image/png": "[encoded data removed]",
            "text/plain": [
              "<Figure size 1800x576 with 1 Axes>"
            ]
          },
          "metadata": {
            "tags": []
          }
        }
      ]
    },
    {
      "cell_type": "code",
      "metadata": {
        "id": "DDObKBskn1XA",
        "colab_type": "code",
        "colab": {}
      },
      "source": [
        "#LEADERBOARD CREATION"
      ],
      "execution_count": 0,
      "outputs": []
    },
    {
      "cell_type": "code",
      "metadata": {
        "id": "J9_suXKFnk-H",
        "colab_type": "code",
        "colab": {
          "base_uri": "https://localhost:8080/",
          "height": 34
        },
        "outputId": "9ed18733-c90d-47f6-aaf3-339502fbf63c"
      },
      "source": [
        "#counting the number of matches in data\n",
        "data['matchId'].nunique()"
      ],
      "execution_count": 16,
      "outputs": [
        {
          "output_type": "execute_result",
          "data": {
            "text/plain": [
              "47734"
            ]
          },
          "metadata": {
            "tags": []
          },
          "execution_count": 16
        }
      ]
    },
    {
      "cell_type": "code",
      "metadata": {
        "id": "Z1MmEmT1nvaY",
        "colab_type": "code",
        "colab": {}
      },
      "source": [
        "#grouping the data by groupId column to get top groups\n",
        "data_acc_group=data.groupby('groupId').sum()"
      ],
      "execution_count": 0,
      "outputs": []
    },
    {
      "cell_type": "code",
      "metadata": {
        "id": "APr4sjJPn9Jh",
        "colab_type": "code",
        "colab": {}
      },
      "source": [
        "#sorting groups for highest winpoints and kills\n",
        "highest_groups=data_acc_group['winPoints'].sort_values(ascending=False).head(100)\n",
        "highest_groups=pd.DataFrame(highest_groups)\n",
        "\n",
        "highest_group_kills=pd.DataFrame(data_acc_group['teamKills'].sort_values(ascending=False).head(100))"
      ],
      "execution_count": 0,
      "outputs": []
    },
    {
      "cell_type": "code",
      "metadata": {
        "id": "IhV9dtcQoOmF",
        "colab_type": "code",
        "colab": {}
      },
      "source": [
        "#sorting groups for highest distance travelled by groups\n",
        "data_acc_group['totaldistance']=data_acc_group['swimDistance']+data_acc_group['rideDistance']+data_acc_group['walkDistance']\n",
        "highest_group_dist=pd.DataFrame(data_acc_group['totaldistance'].sort_values(ascending=False).head(100))"
      ],
      "execution_count": 0,
      "outputs": []
    },
    {
      "cell_type": "code",
      "metadata": {
        "id": "FefYfhoUoXgp",
        "colab_type": "code",
        "colab": {
          "base_uri": "https://localhost:8080/",
          "height": 245
        },
        "outputId": "49247e7f-e1c9-473f-dc64-880bd86433fb"
      },
      "source": [
        "#grouping data according to player id\n",
        "data_acc_id = data.groupby('Id').sum()\n",
        "data_acc_id.head(5)"
      ],
      "execution_count": 20,
      "outputs": [
        {
          "output_type": "execute_result",
          "data": {
            "text/html": [
              "<div>\n",
              "<style scoped>\n",
              "    .dataframe tbody tr th:only-of-type {\n",
              "        vertical-align: middle;\n",
              "    }\n",
              "\n",
              "    .dataframe tbody tr th {\n",
              "        vertical-align: top;\n",
              "    }\n",
              "\n",
              "    .dataframe thead th {\n",
              "        text-align: right;\n",
              "    }\n",
              "</style>\n",
              "<table border=\"1\" class=\"dataframe\">\n",
              "  <thead>\n",
              "    <tr style=\"text-align: right;\">\n",
              "      <th></th>\n",
              "      <th>groupId</th>\n",
              "      <th>matchId</th>\n",
              "      <th>assists</th>\n",
              "      <th>boosts</th>\n",
              "      <th>damageDealt</th>\n",
              "      <th>DBNOs</th>\n",
              "      <th>headshotKills</th>\n",
              "      <th>heals</th>\n",
              "      <th>killPlace</th>\n",
              "      <th>killPoints</th>\n",
              "      <th>kills</th>\n",
              "      <th>killStreaks</th>\n",
              "      <th>longestKill</th>\n",
              "      <th>maxPlace</th>\n",
              "      <th>numGroups</th>\n",
              "      <th>revives</th>\n",
              "      <th>rideDistance</th>\n",
              "      <th>roadKills</th>\n",
              "      <th>swimDistance</th>\n",
              "      <th>teamKills</th>\n",
              "      <th>vehicleDestroys</th>\n",
              "      <th>walkDistance</th>\n",
              "      <th>weaponsAcquired</th>\n",
              "      <th>winPoints</th>\n",
              "      <th>winPlacePerc</th>\n",
              "    </tr>\n",
              "    <tr>\n",
              "      <th>Id</th>\n",
              "      <th></th>\n",
              "      <th></th>\n",
              "      <th></th>\n",
              "      <th></th>\n",
              "      <th></th>\n",
              "      <th></th>\n",
              "      <th></th>\n",
              "      <th></th>\n",
              "      <th></th>\n",
              "      <th></th>\n",
              "      <th></th>\n",
              "      <th></th>\n",
              "      <th></th>\n",
              "      <th></th>\n",
              "      <th></th>\n",
              "      <th></th>\n",
              "      <th></th>\n",
              "      <th></th>\n",
              "      <th></th>\n",
              "      <th></th>\n",
              "      <th></th>\n",
              "      <th></th>\n",
              "      <th></th>\n",
              "      <th></th>\n",
              "      <th></th>\n",
              "    </tr>\n",
              "  </thead>\n",
              "  <tbody>\n",
              "    <tr>\n",
              "      <th>0</th>\n",
              "      <td>24</td>\n",
              "      <td>0</td>\n",
              "      <td>0</td>\n",
              "      <td>5</td>\n",
              "      <td>247.30</td>\n",
              "      <td>2</td>\n",
              "      <td>0</td>\n",
              "      <td>4</td>\n",
              "      <td>17</td>\n",
              "      <td>1050</td>\n",
              "      <td>2</td>\n",
              "      <td>1</td>\n",
              "      <td>65.32</td>\n",
              "      <td>29</td>\n",
              "      <td>28</td>\n",
              "      <td>1</td>\n",
              "      <td>591.3</td>\n",
              "      <td>0</td>\n",
              "      <td>0.0</td>\n",
              "      <td>0</td>\n",
              "      <td>0</td>\n",
              "      <td>782.40</td>\n",
              "      <td>4</td>\n",
              "      <td>1458</td>\n",
              "      <td>0.8571</td>\n",
              "    </tr>\n",
              "    <tr>\n",
              "      <th>1</th>\n",
              "      <td>440875</td>\n",
              "      <td>1</td>\n",
              "      <td>1</td>\n",
              "      <td>0</td>\n",
              "      <td>37.65</td>\n",
              "      <td>1</td>\n",
              "      <td>1</td>\n",
              "      <td>0</td>\n",
              "      <td>45</td>\n",
              "      <td>1072</td>\n",
              "      <td>1</td>\n",
              "      <td>1</td>\n",
              "      <td>13.55</td>\n",
              "      <td>26</td>\n",
              "      <td>23</td>\n",
              "      <td>0</td>\n",
              "      <td>0.0</td>\n",
              "      <td>0</td>\n",
              "      <td>0.0</td>\n",
              "      <td>0</td>\n",
              "      <td>0</td>\n",
              "      <td>119.60</td>\n",
              "      <td>3</td>\n",
              "      <td>1511</td>\n",
              "      <td>0.0400</td>\n",
              "    </tr>\n",
              "    <tr>\n",
              "      <th>2</th>\n",
              "      <td>878242</td>\n",
              "      <td>2</td>\n",
              "      <td>0</td>\n",
              "      <td>1</td>\n",
              "      <td>93.73</td>\n",
              "      <td>1</td>\n",
              "      <td>0</td>\n",
              "      <td>2</td>\n",
              "      <td>54</td>\n",
              "      <td>1404</td>\n",
              "      <td>0</td>\n",
              "      <td>0</td>\n",
              "      <td>0.00</td>\n",
              "      <td>28</td>\n",
              "      <td>28</td>\n",
              "      <td>1</td>\n",
              "      <td>0.0</td>\n",
              "      <td>0</td>\n",
              "      <td>0.0</td>\n",
              "      <td>0</td>\n",
              "      <td>0</td>\n",
              "      <td>3248.00</td>\n",
              "      <td>5</td>\n",
              "      <td>1583</td>\n",
              "      <td>0.7407</td>\n",
              "    </tr>\n",
              "    <tr>\n",
              "      <th>3</th>\n",
              "      <td>1319841</td>\n",
              "      <td>3</td>\n",
              "      <td>0</td>\n",
              "      <td>0</td>\n",
              "      <td>95.88</td>\n",
              "      <td>0</td>\n",
              "      <td>0</td>\n",
              "      <td>0</td>\n",
              "      <td>86</td>\n",
              "      <td>1069</td>\n",
              "      <td>0</td>\n",
              "      <td>0</td>\n",
              "      <td>0.00</td>\n",
              "      <td>97</td>\n",
              "      <td>94</td>\n",
              "      <td>0</td>\n",
              "      <td>0.0</td>\n",
              "      <td>0</td>\n",
              "      <td>0.0</td>\n",
              "      <td>0</td>\n",
              "      <td>0</td>\n",
              "      <td>21.49</td>\n",
              "      <td>1</td>\n",
              "      <td>1489</td>\n",
              "      <td>0.1146</td>\n",
              "    </tr>\n",
              "    <tr>\n",
              "      <th>4</th>\n",
              "      <td>1757883</td>\n",
              "      <td>4</td>\n",
              "      <td>0</td>\n",
              "      <td>1</td>\n",
              "      <td>0.00</td>\n",
              "      <td>0</td>\n",
              "      <td>0</td>\n",
              "      <td>1</td>\n",
              "      <td>58</td>\n",
              "      <td>1034</td>\n",
              "      <td>0</td>\n",
              "      <td>0</td>\n",
              "      <td>0.00</td>\n",
              "      <td>47</td>\n",
              "      <td>41</td>\n",
              "      <td>0</td>\n",
              "      <td>0.0</td>\n",
              "      <td>0</td>\n",
              "      <td>0.0</td>\n",
              "      <td>0</td>\n",
              "      <td>0</td>\n",
              "      <td>640.80</td>\n",
              "      <td>4</td>\n",
              "      <td>1475</td>\n",
              "      <td>0.5217</td>\n",
              "    </tr>\n",
              "  </tbody>\n",
              "</table>\n",
              "</div>"
            ],
            "text/plain": [
              "    groupId  matchId  assists  ...  weaponsAcquired  winPoints  winPlacePerc\n",
              "Id                             ...                                          \n",
              "0        24        0        0  ...                4       1458        0.8571\n",
              "1    440875        1        1  ...                3       1511        0.0400\n",
              "2    878242        2        0  ...                5       1583        0.7407\n",
              "3   1319841        3        0  ...                1       1489        0.1146\n",
              "4   1757883        4        0  ...                4       1475        0.5217\n",
              "\n",
              "[5 rows x 25 columns]"
            ]
          },
          "metadata": {
            "tags": []
          },
          "execution_count": 20
        }
      ]
    },
    {
      "cell_type": "code",
      "metadata": {
        "id": "DdCaimlyoYoV",
        "colab_type": "code",
        "colab": {}
      },
      "source": [
        "#sorting winpoints to get players with highest win points\n",
        "highest_winPlacePerc = data_acc_id['winPoints'].sort_values(ascending=False)\n",
        "highest_winPlacePerc=pd.DataFrame(highest_winPlacePerc)"
      ],
      "execution_count": 0,
      "outputs": []
    },
    {
      "cell_type": "code",
      "metadata": {
        "id": "_yDMlukpoa0p",
        "colab_type": "code",
        "colab": {}
      },
      "source": [
        "#sorting total distance to get players with highest distance travelled\n",
        "\n",
        "highest_swim_dist = data_acc_id['swimDistance'].sort_values(ascending=False)\n",
        "highest_walk_dist = data_acc_id['walkDistance'].sort_values(ascending=False)\n",
        "highest_ride_dist = data_acc_id['rideDistance'].sort_values(ascending=False)\n",
        "data_acc_id['total_dist'] = data_acc_id['swimDistance'].sort_values(ascending=False) + data_acc_id['walkDistance'].sort_values(ascending=False) + data_acc_id['rideDistance'].sort_values(ascending=False)"
      ],
      "execution_count": 0,
      "outputs": []
    },
    {
      "cell_type": "code",
      "metadata": {
        "id": "NfbyX9f0rB7s",
        "colab_type": "code",
        "colab": {}
      },
      "source": [
        "highest_dist=pd.DataFrame(data_acc_id['total_dist'].sort_values(ascending=False))\n"
      ],
      "execution_count": 0,
      "outputs": []
    },
    {
      "cell_type": "code",
      "metadata": {
        "id": "58mXONLJo5DS",
        "colab_type": "code",
        "colab": {}
      },
      "source": [
        "#sorting kills to get players with highest kills\n",
        "\n",
        "highest_kills = data_acc_id['kills'].sort_values(ascending=False)\n",
        "highest_kills=pd.DataFrame(highest_kills)\n"
      ],
      "execution_count": 0,
      "outputs": []
    },
    {
      "cell_type": "code",
      "metadata": {
        "id": "_G03MCDZpTdL",
        "colab_type": "code",
        "colab": {}
      },
      "source": [
        "from IPython.display import display_html \n"
      ],
      "execution_count": 0,
      "outputs": []
    },
    {
      "cell_type": "code",
      "metadata": {
        "id": "nxn3PP_7ztgF",
        "colab_type": "code",
        "colab": {}
      },
      "source": [
        ""
      ],
      "execution_count": 0,
      "outputs": []
    },
    {
      "cell_type": "code",
      "metadata": {
        "id": "bdsc7bcPpTWb",
        "colab_type": "code",
        "colab": {}
      },
      "source": [
        "#function to display pandas dataframes side by side\n",
        "def display_side_by_side(*args):\n",
        "    html_str=''\n",
        "    for df in args:\n",
        "        html_str+=df.to_html()\n",
        "    display_html(html_str.replace('table','table style=\"display:inline\"'),raw=True)"
      ],
      "execution_count": 0,
      "outputs": []
    },
    {
      "cell_type": "code",
      "metadata": {
        "id": "msiJ9KURpWlJ",
        "colab_type": "code",
        "colab": {
          "base_uri": "https://localhost:8080/",
          "height": 373
        },
        "outputId": "eff6532f-444b-4d8e-ab49-a54b314f843a"
      },
      "source": [
        "display_side_by_side(highest_group_dist.head(10),highest_group_kills.head(10),highest_groups.head(10))"
      ],
      "execution_count": 27,
      "outputs": [
        {
          "output_type": "display_data",
          "data": {
            "text/html": [
              "<table style=\"display:inline\" border=\"1\" class=\"dataframe\">\n",
              "  <thead>\n",
              "    <tr style=\"text-align: right;\">\n",
              "      <th></th>\n",
              "      <th>totaldistance</th>\n",
              "    </tr>\n",
              "    <tr>\n",
              "      <th>groupId</th>\n",
              "      <th></th>\n",
              "    </tr>\n",
              "  </thead>\n",
              "  <tbody>\n",
              "    <tr>\n",
              "      <th>1223908</th>\n",
              "      <td>176296.3690</td>\n",
              "    </tr>\n",
              "    <tr>\n",
              "      <th>737999</th>\n",
              "      <td>145251.1100</td>\n",
              "    </tr>\n",
              "    <tr>\n",
              "      <th>1013262</th>\n",
              "      <td>137219.9000</td>\n",
              "    </tr>\n",
              "    <tr>\n",
              "      <th>1742978</th>\n",
              "      <td>96125.6000</td>\n",
              "    </tr>\n",
              "    <tr>\n",
              "      <th>560857</th>\n",
              "      <td>93697.4000</td>\n",
              "    </tr>\n",
              "    <tr>\n",
              "      <th>1386844</th>\n",
              "      <td>93517.0055</td>\n",
              "    </tr>\n",
              "    <tr>\n",
              "      <th>560856</th>\n",
              "      <td>89731.3210</td>\n",
              "    </tr>\n",
              "    <tr>\n",
              "      <th>1114747</th>\n",
              "      <td>84369.1000</td>\n",
              "    </tr>\n",
              "    <tr>\n",
              "      <th>560863</th>\n",
              "      <td>81847.9000</td>\n",
              "    </tr>\n",
              "    <tr>\n",
              "      <th>1472981</th>\n",
              "      <td>76727.5700</td>\n",
              "    </tr>\n",
              "  </tbody>\n",
              "</table style=\"display:inline\"><table style=\"display:inline\" border=\"1\" class=\"dataframe\">\n",
              "  <thead>\n",
              "    <tr style=\"text-align: right;\">\n",
              "      <th></th>\n",
              "      <th>teamKills</th>\n",
              "    </tr>\n",
              "    <tr>\n",
              "      <th>groupId</th>\n",
              "      <th></th>\n",
              "    </tr>\n",
              "  </thead>\n",
              "  <tbody>\n",
              "    <tr>\n",
              "      <th>495124</th>\n",
              "      <td>18</td>\n",
              "    </tr>\n",
              "    <tr>\n",
              "      <th>1656492</th>\n",
              "      <td>12</td>\n",
              "    </tr>\n",
              "    <tr>\n",
              "      <th>315851</th>\n",
              "      <td>12</td>\n",
              "    </tr>\n",
              "    <tr>\n",
              "      <th>580346</th>\n",
              "      <td>9</td>\n",
              "    </tr>\n",
              "    <tr>\n",
              "      <th>900073</th>\n",
              "      <td>9</td>\n",
              "    </tr>\n",
              "    <tr>\n",
              "      <th>1540117</th>\n",
              "      <td>8</td>\n",
              "    </tr>\n",
              "    <tr>\n",
              "      <th>146844</th>\n",
              "      <td>7</td>\n",
              "    </tr>\n",
              "    <tr>\n",
              "      <th>773582</th>\n",
              "      <td>6</td>\n",
              "    </tr>\n",
              "    <tr>\n",
              "      <th>647688</th>\n",
              "      <td>6</td>\n",
              "    </tr>\n",
              "    <tr>\n",
              "      <th>580348</th>\n",
              "      <td>6</td>\n",
              "    </tr>\n",
              "  </tbody>\n",
              "</table style=\"display:inline\"><table style=\"display:inline\" border=\"1\" class=\"dataframe\">\n",
              "  <thead>\n",
              "    <tr style=\"text-align: right;\">\n",
              "      <th></th>\n",
              "      <th>winPoints</th>\n",
              "    </tr>\n",
              "    <tr>\n",
              "      <th>groupId</th>\n",
              "      <th></th>\n",
              "    </tr>\n",
              "  </thead>\n",
              "  <tbody>\n",
              "    <tr>\n",
              "      <th>1268134</th>\n",
              "      <td>144000</td>\n",
              "    </tr>\n",
              "    <tr>\n",
              "      <th>1193309</th>\n",
              "      <td>139156</td>\n",
              "    </tr>\n",
              "    <tr>\n",
              "      <th>2685082</th>\n",
              "      <td>114137</td>\n",
              "    </tr>\n",
              "    <tr>\n",
              "      <th>737999</th>\n",
              "      <td>87000</td>\n",
              "    </tr>\n",
              "    <tr>\n",
              "      <th>1223908</th>\n",
              "      <td>85500</td>\n",
              "    </tr>\n",
              "    <tr>\n",
              "      <th>1504697</th>\n",
              "      <td>71005</td>\n",
              "    </tr>\n",
              "    <tr>\n",
              "      <th>1386844</th>\n",
              "      <td>69000</td>\n",
              "    </tr>\n",
              "    <tr>\n",
              "      <th>1025545</th>\n",
              "      <td>56061</td>\n",
              "    </tr>\n",
              "    <tr>\n",
              "      <th>406497</th>\n",
              "      <td>55129</td>\n",
              "    </tr>\n",
              "    <tr>\n",
              "      <th>2504627</th>\n",
              "      <td>51267</td>\n",
              "    </tr>\n",
              "  </tbody>\n",
              "</table style=\"display:inline\">"
            ]
          },
          "metadata": {
            "tags": []
          }
        }
      ]
    },
    {
      "cell_type": "code",
      "metadata": {
        "id": "UKXhEf4bpZsm",
        "colab_type": "code",
        "colab": {
          "base_uri": "https://localhost:8080/",
          "height": 373
        },
        "outputId": "f4189dfd-cae2-4d87-e94d-3266fe304d8a"
      },
      "source": [
        "display_side_by_side(highest_kills.head(10),highest_dist.head(10),highest_winPlacePerc.head(10))"
      ],
      "execution_count": 28,
      "outputs": [
        {
          "output_type": "display_data",
          "data": {
            "text/html": [
              "<table style=\"display:inline\" border=\"1\" class=\"dataframe\">\n",
              "  <thead>\n",
              "    <tr style=\"text-align: right;\">\n",
              "      <th></th>\n",
              "      <th>kills</th>\n",
              "    </tr>\n",
              "    <tr>\n",
              "      <th>Id</th>\n",
              "      <th></th>\n",
              "    </tr>\n",
              "  </thead>\n",
              "  <tbody>\n",
              "    <tr>\n",
              "      <th>1297658</th>\n",
              "      <td>60</td>\n",
              "    </tr>\n",
              "    <tr>\n",
              "      <th>162743</th>\n",
              "      <td>49</td>\n",
              "    </tr>\n",
              "    <tr>\n",
              "      <th>94553</th>\n",
              "      <td>48</td>\n",
              "    </tr>\n",
              "    <tr>\n",
              "      <th>4303492</th>\n",
              "      <td>42</td>\n",
              "    </tr>\n",
              "    <tr>\n",
              "      <th>75982</th>\n",
              "      <td>41</td>\n",
              "    </tr>\n",
              "    <tr>\n",
              "      <th>299122</th>\n",
              "      <td>41</td>\n",
              "    </tr>\n",
              "    <tr>\n",
              "      <th>26362</th>\n",
              "      <td>41</td>\n",
              "    </tr>\n",
              "    <tr>\n",
              "      <th>1096668</th>\n",
              "      <td>41</td>\n",
              "    </tr>\n",
              "    <tr>\n",
              "      <th>727928</th>\n",
              "      <td>39</td>\n",
              "    </tr>\n",
              "    <tr>\n",
              "      <th>362853</th>\n",
              "      <td>37</td>\n",
              "    </tr>\n",
              "  </tbody>\n",
              "</table style=\"display:inline\"><table style=\"display:inline\" border=\"1\" class=\"dataframe\">\n",
              "  <thead>\n",
              "    <tr style=\"text-align: right;\">\n",
              "      <th></th>\n",
              "      <th>total_dist</th>\n",
              "    </tr>\n",
              "    <tr>\n",
              "      <th>Id</th>\n",
              "      <th></th>\n",
              "    </tr>\n",
              "  </thead>\n",
              "  <tbody>\n",
              "    <tr>\n",
              "      <th>305823</th>\n",
              "      <td>49531.0</td>\n",
              "    </tr>\n",
              "    <tr>\n",
              "      <th>3475970</th>\n",
              "      <td>47229.4</td>\n",
              "    </tr>\n",
              "    <tr>\n",
              "      <th>4781062</th>\n",
              "      <td>45085.6</td>\n",
              "    </tr>\n",
              "    <tr>\n",
              "      <th>374011</th>\n",
              "      <td>35791.0</td>\n",
              "    </tr>\n",
              "    <tr>\n",
              "      <th>510383</th>\n",
              "      <td>34921.0</td>\n",
              "    </tr>\n",
              "    <tr>\n",
              "      <th>583299</th>\n",
              "      <td>31440.6</td>\n",
              "    </tr>\n",
              "    <tr>\n",
              "      <th>160562</th>\n",
              "      <td>30514.0</td>\n",
              "    </tr>\n",
              "    <tr>\n",
              "      <th>3048214</th>\n",
              "      <td>27605.5</td>\n",
              "    </tr>\n",
              "    <tr>\n",
              "      <th>1921992</th>\n",
              "      <td>26301.0</td>\n",
              "    </tr>\n",
              "    <tr>\n",
              "      <th>5164301</th>\n",
              "      <td>26258.3</td>\n",
              "    </tr>\n",
              "  </tbody>\n",
              "</table style=\"display:inline\"><table style=\"display:inline\" border=\"1\" class=\"dataframe\">\n",
              "  <thead>\n",
              "    <tr style=\"text-align: right;\">\n",
              "      <th></th>\n",
              "      <th>winPoints</th>\n",
              "    </tr>\n",
              "    <tr>\n",
              "      <th>Id</th>\n",
              "      <th></th>\n",
              "    </tr>\n",
              "  </thead>\n",
              "  <tbody>\n",
              "    <tr>\n",
              "      <th>4390405</th>\n",
              "      <td>1923</td>\n",
              "    </tr>\n",
              "    <tr>\n",
              "      <th>494181</th>\n",
              "      <td>1919</td>\n",
              "    </tr>\n",
              "    <tr>\n",
              "      <th>357807</th>\n",
              "      <td>1917</td>\n",
              "    </tr>\n",
              "    <tr>\n",
              "      <th>3923740</th>\n",
              "      <td>1909</td>\n",
              "    </tr>\n",
              "    <tr>\n",
              "      <th>2341861</th>\n",
              "      <td>1906</td>\n",
              "    </tr>\n",
              "    <tr>\n",
              "      <th>6178032</th>\n",
              "      <td>1906</td>\n",
              "    </tr>\n",
              "    <tr>\n",
              "      <th>4795005</th>\n",
              "      <td>1905</td>\n",
              "    </tr>\n",
              "    <tr>\n",
              "      <th>3932169</th>\n",
              "      <td>1905</td>\n",
              "    </tr>\n",
              "    <tr>\n",
              "      <th>78186</th>\n",
              "      <td>1905</td>\n",
              "    </tr>\n",
              "    <tr>\n",
              "      <th>2908637</th>\n",
              "      <td>1905</td>\n",
              "    </tr>\n",
              "  </tbody>\n",
              "</table style=\"display:inline\">"
            ]
          },
          "metadata": {
            "tags": []
          }
        }
      ]
    },
    {
      "cell_type": "code",
      "metadata": {
        "id": "NU-vWQgprvDw",
        "colab_type": "code",
        "colab": {}
      },
      "source": [
        ""
      ],
      "execution_count": 0,
      "outputs": []
    }
  ]
}